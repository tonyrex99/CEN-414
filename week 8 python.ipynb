{
 "cells": [
  {
   "cell_type": "code",
   "execution_count": 11,
   "metadata": {},
   "outputs": [
    {
     "name": "stdout",
     "output_type": "stream",
     "text": [
      "Adenuga Ebunifeoluwa, 19CJ025761\n"
     ]
    }
   ],
   "source": [
    "print(\"Adenuga Ebunifeoluwa, 19CJ025761\")"
   ]
  },
  {
   "cell_type": "code",
   "execution_count": 4,
   "metadata": {},
   "outputs": [
    {
     "name": "stdout",
     "output_type": "stream",
     "text": [
      "Five is greater than two!\n"
     ]
    }
   ],
   "source": [
    "if 5 > 2:\n",
    "\tprint(\"Five is greater than two!\")"
   ]
  },
  {
   "cell_type": "code",
   "execution_count": 5,
   "metadata": {},
   "outputs": [
    {
     "name": "stdout",
     "output_type": "stream",
     "text": [
      "Five is greater than two\n",
      "Five is greater than two\n"
     ]
    }
   ],
   "source": [
    "if 5 > 2:\n",
    "\tprint(\"Five is greater than two\")\n",
    "\n",
    "if 5 > 2:\n",
    "\tprint(\"Five is greater than two\")"
   ]
  },
  {
   "cell_type": "code",
   "execution_count": 7,
   "metadata": {},
   "outputs": [],
   "source": [
    "x = 5\n",
    "y = \"Hello world\""
   ]
  },
  {
   "cell_type": "code",
   "execution_count": 10,
   "metadata": {},
   "outputs": [
    {
     "name": "stdout",
     "output_type": "stream",
     "text": [
      "Hello world 5 Hello world\n"
     ]
    }
   ],
   "source": [
    "#This is a nice comment\n",
    "print(\"Hello world\", x, y)"
   ]
  }
 ],
 "metadata": {
  "kernelspec": {
   "display_name": "Python 3.10.8 64-bit",
   "language": "python",
   "name": "python3"
  },
  "language_info": {
   "codemirror_mode": {
    "name": "ipython",
    "version": 3
   },
   "file_extension": ".py",
   "mimetype": "text/x-python",
   "name": "python",
   "nbconvert_exporter": "python",
   "pygments_lexer": "ipython3",
   "version": "3.10.8"
  },
  "orig_nbformat": 4,
  "vscode": {
   "interpreter": {
    "hash": "de869b9c4779e358915489d5cc73a46e3a0c95e64e11bf0775769b4295e730a8"
   }
  }
 },
 "nbformat": 4,
 "nbformat_minor": 2
}
